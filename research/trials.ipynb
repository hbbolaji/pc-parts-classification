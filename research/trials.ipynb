{
 "cells": [
  {
   "cell_type": "code",
   "execution_count": 3,
   "metadata": {},
   "outputs": [
    {
     "name": "stdout",
     "output_type": "stream",
     "text": [
      "dataset downloaded\n"
     ]
    }
   ],
   "source": [
    "import requests\n",
    "import zipfile\n",
    "from pathlib import Path\n",
    "\n",
    "zip_path = Path('dataset.zip')\n",
    "if zip_path.exists():\n",
    "  print('dataset downloaded')\n",
    "else:\n",
    "  print(f'dataset does not exist, downloading...')\n",
    "  dataset_url = 'https://www.kaggle.com/datasets/asaniczka/pc-parts-images-dataset-classification/download?datasetVersionNumber=1'\n",
    "  response = requests.get(dataset_url)\n",
    "  with open(zip_path, '') as f:\n",
    "    f.write(response.content)"
   ]
  }
 ],
 "metadata": {
  "kernelspec": {
   "display_name": "base",
   "language": "python",
   "name": "python3"
  },
  "language_info": {
   "codemirror_mode": {
    "name": "ipython",
    "version": 3
   },
   "file_extension": ".py",
   "mimetype": "text/x-python",
   "name": "python",
   "nbconvert_exporter": "python",
   "pygments_lexer": "ipython3",
   "version": "3.11.5"
  }
 },
 "nbformat": 4,
 "nbformat_minor": 2
}
