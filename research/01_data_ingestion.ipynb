{
 "cells": [
  {
   "cell_type": "code",
   "execution_count": 1,
   "metadata": {},
   "outputs": [],
   "source": [
    "import os\n",
    "import requests\n",
    "import logging\n",
    "import zipfile"
   ]
  },
  {
   "cell_type": "code",
   "execution_count": 2,
   "metadata": {},
   "outputs": [
    {
     "data": {
      "text/plain": [
       "'/Users/apple/Documents/Personal/Computer Vision and Deep Learning/pc-parts/research'"
      ]
     },
     "execution_count": 2,
     "metadata": {},
     "output_type": "execute_result"
    }
   ],
   "source": [
    "pwd"
   ]
  },
  {
   "cell_type": "code",
   "execution_count": 3,
   "metadata": {},
   "outputs": [],
   "source": [
    "os.chdir('../')"
   ]
  },
  {
   "cell_type": "code",
   "execution_count": 4,
   "metadata": {},
   "outputs": [
    {
     "data": {
      "text/plain": [
       "'/Users/apple/Documents/Personal/Computer Vision and Deep Learning/pc-parts'"
      ]
     },
     "execution_count": 4,
     "metadata": {},
     "output_type": "execute_result"
    }
   ],
   "source": [
    "pwd"
   ]
  },
  {
   "cell_type": "code",
   "execution_count": 5,
   "metadata": {},
   "outputs": [],
   "source": [
    "from dataclasses import dataclass\n",
    "from pathlib import Path\n",
    "\n",
    "@dataclass(frozen=True)\n",
    "class DataIngestionConfig: \n",
    "  root_dir: Path\n",
    "  source_url: str\n",
    "  local_zip_file: Path\n",
    "  unzip_dir: Path"
   ]
  },
  {
   "cell_type": "code",
   "execution_count": 6,
   "metadata": {},
   "outputs": [],
   "source": [
    "from pcpartsclassifier.constants import *\n",
    "from pcpartsclassifier.utils.common import read_yaml, create_directories\n",
    "\n",
    "class ConfigurationManager:\n",
    "  def __init__(self,\n",
    "               config_path = CONFIG_FILE_PATH,\n",
    "               params_path = PARAMS_FILE_PATH):\n",
    "    self.config = read_yaml(config_path)\n",
    "    self.params = read_yaml(params_path)\n",
    "    create_directories([self.config.artifacts_root])\n",
    "\n",
    "  def get_data_ingestion_config(self) -> DataIngestionConfig:\n",
    "    config = self.config.data_ingestion\n",
    "    create_directories([config.root_dir])\n",
    "\n",
    "    data_ingestion_config = DataIngestionConfig(\n",
    "      root_dir=config.root_dir,\n",
    "      source_url=config.source_url,\n",
    "      local_zip_file=config.local_zip_file,\n",
    "      unzip_dir=config.unzip_dir\n",
    "    )\n",
    "\n",
    "    return data_ingestion_config"
   ]
  },
  {
   "cell_type": "code",
   "execution_count": null,
   "metadata": {},
   "outputs": [],
   "source": []
  },
  {
   "cell_type": "code",
   "execution_count": 7,
   "metadata": {},
   "outputs": [],
   "source": [
    "class DataIngestion:\n",
    "  def __init__(self, config: DataIngestionConfig):\n",
    "    self.config = config\n",
    "\n",
    "  def download_data(self):\n",
    "    try:\n",
    "      zip_download_dir = self.config.local_zip_file\n",
    "      dataset_url = self.config.source_url\n",
    "      # os.makedirs(zip_download_dir, exist_ok=True)\n",
    "      logging.info(f'Downloading data from {dataset_url} to {zip_download_dir}')\n",
    "      response = requests.get(dataset_url)\n",
    "      with open(zip_download_dir, 'wb') as f:\n",
    "        f.write(response.content)\n",
    "      logging.info(f'Downloaded data from {dataset_url} to {zip_download_dir}')\n",
    "    except Exception as e:\n",
    "      raise e\n",
    "    return\n",
    "  \n",
    "  def extract_zip_file(self):\n",
    "    unzip_path = self.config.unzip_dir\n",
    "    os.makedirs(unzip_path, exist_ok=True)\n",
    "    print(self.config.local_zip_file)\n",
    "    print(zipfile.is_zipfile(self.config.local_zip_file))\n",
    "    with zipfile.ZipFile(Path(self.config.local_zip_file)) as zip_ref:\n",
    "      zip_ref.extractall(unzip_path)"
   ]
  },
  {
   "cell_type": "code",
   "execution_count": 8,
   "metadata": {},
   "outputs": [
    {
     "name": "stdout",
     "output_type": "stream",
     "text": [
      "[2024-03-29 11:28:23,952 : INFO : common : yaml file: config/config.yaml loaded successfull]\n",
      "[2024-03-29 11:28:23,957 : INFO : common : yaml file: params.yaml loaded successfull]\n",
      "[2024-03-29 11:28:23,961 : INFO : common : created directory at artifacts]\n",
      "[2024-03-29 11:28:23,965 : INFO : common : created directory at artifacts/data_ingestion]\n",
      "artifacts/data_ingestion/datasets.zip\n",
      "True\n"
     ]
    }
   ],
   "source": [
    "# update pipline\n",
    "try:\n",
    "  config = ConfigurationManager()\n",
    "  data_ingestion_config = config.get_data_ingestion_config()\n",
    "  data_ingestion = DataIngestion(config=data_ingestion_config)\n",
    "  # data_ingestion.download_data()\n",
    "  data_ingestion.extract_zip_file()\n",
    "except Exception as e:\n",
    "  raise e"
   ]
  },
  {
   "cell_type": "code",
   "execution_count": null,
   "metadata": {},
   "outputs": [],
   "source": []
  }
 ],
 "metadata": {
  "kernelspec": {
   "display_name": "base",
   "language": "python",
   "name": "python3"
  },
  "language_info": {
   "codemirror_mode": {
    "name": "ipython",
    "version": 3
   },
   "file_extension": ".py",
   "mimetype": "text/x-python",
   "name": "python",
   "nbconvert_exporter": "python",
   "pygments_lexer": "ipython3",
   "version": "3.11.5"
  }
 },
 "nbformat": 4,
 "nbformat_minor": 2
}
