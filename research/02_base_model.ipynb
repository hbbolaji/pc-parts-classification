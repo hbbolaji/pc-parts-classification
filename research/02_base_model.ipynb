{
 "cells": [
  {
   "cell_type": "code",
   "execution_count": 1,
   "metadata": {},
   "outputs": [],
   "source": [
    "import os"
   ]
  },
  {
   "cell_type": "code",
   "execution_count": 3,
   "metadata": {},
   "outputs": [],
   "source": [
    "os.chdir('../')"
   ]
  },
  {
   "cell_type": "code",
   "execution_count": 4,
   "metadata": {},
   "outputs": [
    {
     "data": {
      "text/plain": [
       "'/Users/apple/Documents/Personal/Computer Vision and Deep Learning/pc-parts'"
      ]
     },
     "execution_count": 4,
     "metadata": {},
     "output_type": "execute_result"
    }
   ],
   "source": [
    "%pwd"
   ]
  },
  {
   "cell_type": "code",
   "execution_count": 10,
   "metadata": {},
   "outputs": [],
   "source": [
    "from dataclasses import dataclass\n",
    "from pathlib import Path\n",
    "\n",
    "@dataclass(frozen=True)\n",
    "class BaseModelConfig:\n",
    "  root_dir: Path\n",
    "  updated_base_model: Path\n",
    "  params_learning_rate: float"
   ]
  },
  {
   "cell_type": "code",
   "execution_count": 11,
   "metadata": {},
   "outputs": [],
   "source": [
    "from pcpartsclassifier.utils.common import read_yaml, create_directories\n",
    "from pcpartsclassifier.constants import *\n",
    "\n",
    "class ConfigurationManager:\n",
    "  def __init__(self) -> None:\n",
    "    pass\n",
    "    \n",
    "  def get_base_model_config(self) -> None:\n",
    "    config = self.config.base_model\n",
    "    base_model_config = BaseModelConfig(\n",
    "      root_dir=config.root_dir,\n",
    "      params_learning_rate=self.params.LEARNING_RATE\n",
    "    )\n",
    "    return base_model_config\n"
   ]
  },
  {
   "cell_type": "code",
   "execution_count": 45,
   "metadata": {},
   "outputs": [],
   "source": [
    "from torchvision import models\n",
    "import torch.nn as nn\n",
    "\n",
    "\n",
    "class BaseModel(nn.Module):\n",
    "  def __init__(self,  output_feature: int):\n",
    "    super(BaseModel, self).__init__()\n",
    "    self.weights = models.EfficientNet_B0_Weights.DEFAULT\n",
    "    self.transform = self.weights.transforms()\n",
    "    self.model = models.efficientnet_b0(weights=self.weights)\n",
    "    print(self.transform)\n",
    "\n",
    "    for params in self.model.features.parameters():\n",
    "      params.requires_grad = False\n",
    "\n",
    "    self.model.classifier = nn.Sequential(\n",
    "      nn.Dropout(),\n",
    "      nn.Linear(1280, output_feature)\n",
    "    )\n",
    "\n",
    "  def forward(self, x):\n",
    "    return self.model(x)\n"
   ]
  },
  {
   "cell_type": "code",
   "execution_count": 46,
   "metadata": {},
   "outputs": [
    {
     "name": "stdout",
     "output_type": "stream",
     "text": [
      "ImageClassification(\n",
      "    crop_size=[224]\n",
      "    resize_size=[256]\n",
      "    mean=[0.485, 0.456, 0.406]\n",
      "    std=[0.229, 0.224, 0.225]\n",
      "    interpolation=InterpolationMode.BICUBIC\n",
      ")\n"
     ]
    },
    {
     "data": {
      "text/plain": [
       "=========================================================================================================================================================================================\n",
       "Layer (type:depth-idx)                                       Input Shape               Output Shape              Param #                   Kernel Shape              Trainable\n",
       "=========================================================================================================================================================================================\n",
       "BaseModel                                                    [1, 3, 224, 224]          [1, 14]                   --                        --                        Partial\n",
       "├─EfficientNet: 1-1                                          [1, 3, 224, 224]          [1, 14]                   --                        --                        Partial\n",
       "│    └─Sequential: 2-1                                       [1, 3, 224, 224]          [1, 1280, 7, 7]           --                        --                        False\n",
       "│    │    └─Conv2dNormActivation: 3-1                        [1, 3, 224, 224]          [1, 32, 112, 112]         (928)                     --                        False\n",
       "│    │    └─Sequential: 3-2                                  [1, 32, 112, 112]         [1, 16, 112, 112]         (1,448)                   --                        False\n",
       "│    │    └─Sequential: 3-3                                  [1, 16, 112, 112]         [1, 24, 56, 56]           (16,714)                  --                        False\n",
       "│    │    └─Sequential: 3-4                                  [1, 24, 56, 56]           [1, 40, 28, 28]           (46,640)                  --                        False\n",
       "│    │    └─Sequential: 3-5                                  [1, 40, 28, 28]           [1, 80, 14, 14]           (242,930)                 --                        False\n",
       "│    │    └─Sequential: 3-6                                  [1, 80, 14, 14]           [1, 112, 14, 14]          (543,148)                 --                        False\n",
       "│    │    └─Sequential: 3-7                                  [1, 112, 14, 14]          [1, 192, 7, 7]            (2,026,348)               --                        False\n",
       "│    │    └─Sequential: 3-8                                  [1, 192, 7, 7]            [1, 320, 7, 7]            (717,232)                 --                        False\n",
       "│    │    └─Conv2dNormActivation: 3-9                        [1, 320, 7, 7]            [1, 1280, 7, 7]           (412,160)                 --                        False\n",
       "│    └─AdaptiveAvgPool2d: 2-2                                [1, 1280, 7, 7]           [1, 1280, 1, 1]           --                        --                        --\n",
       "│    └─Sequential: 2-3                                       [1, 1280]                 [1, 14]                   --                        --                        True\n",
       "│    │    └─Dropout: 3-10                                    [1, 1280]                 [1, 1280]                 --                        --                        --\n",
       "│    │    └─Linear: 3-11                                     [1, 1280]                 [1, 14]                   17,934                    --                        True\n",
       "=========================================================================================================================================================================================\n",
       "Total params: 4,025,482\n",
       "Trainable params: 17,934\n",
       "Non-trainable params: 4,007,548\n",
       "Total mult-adds (Units.MEGABYTES): 384.60\n",
       "=========================================================================================================================================================================================\n",
       "Input size (MB): 0.60\n",
       "Forward/backward pass size (MB): 107.88\n",
       "Params size (MB): 16.10\n",
       "Estimated Total Size (MB): 124.58\n",
       "========================================================================================================================================================================================="
      ]
     },
     "execution_count": 46,
     "metadata": {},
     "output_type": "execute_result"
    }
   ],
   "source": [
    "from torchinfo import summary\n",
    "model = BaseModel(14)\n",
    "model\n",
    "\n",
    "summary(model, input_size=[1, 3, 224, 224], col_names=[\"input_size\",  \n",
    "                                                        \"output_size\",\n",
    "                                                        \"num_params\",\n",
    "                                                        \"kernel_size\",  \n",
    "                                                        \"trainable\"])\n",
    "\n"
   ]
  },
  {
   "cell_type": "code",
   "execution_count": null,
   "metadata": {},
   "outputs": [],
   "source": [
    "# pipeline\n",
    "try:\n",
    "  model = BaseModel(14)\n",
    "except Exception as e:\n",
    "  raise e"
   ]
  }
 ],
 "metadata": {
  "kernelspec": {
   "display_name": "base",
   "language": "python",
   "name": "python3"
  },
  "language_info": {
   "codemirror_mode": {
    "name": "ipython",
    "version": 3
   },
   "file_extension": ".py",
   "mimetype": "text/x-python",
   "name": "python",
   "nbconvert_exporter": "python",
   "pygments_lexer": "ipython3",
   "version": "3.11.5"
  }
 },
 "nbformat": 4,
 "nbformat_minor": 2
}
