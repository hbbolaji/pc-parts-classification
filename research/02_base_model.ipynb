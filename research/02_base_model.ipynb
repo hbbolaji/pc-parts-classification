{
 "cells": [
  {
   "cell_type": "code",
   "execution_count": 1,
   "metadata": {},
   "outputs": [],
   "source": [
    "import os"
   ]
  },
  {
   "cell_type": "code",
   "execution_count": 2,
   "metadata": {},
   "outputs": [],
   "source": [
    "os.chdir('../')"
   ]
  },
  {
   "cell_type": "code",
   "execution_count": 3,
   "metadata": {},
   "outputs": [
    {
     "data": {
      "text/plain": [
       "'/Users/apple/Documents/Personal/Computer Vision and Deep Learning/pc-parts'"
      ]
     },
     "execution_count": 3,
     "metadata": {},
     "output_type": "execute_result"
    }
   ],
   "source": [
    "%pwd"
   ]
  },
  {
   "cell_type": "code",
   "execution_count": 4,
   "metadata": {},
   "outputs": [],
   "source": [
    "from dataclasses import dataclass\n",
    "from pathlib import Path\n",
    "\n",
    "@dataclass(frozen=True)\n",
    "class BaseModelConfig:\n",
    "  root_dir: Path\n",
    "  untrained_base_model: Path\n",
    "  trained_base_model: Path\n",
    "  classes: int"
   ]
  },
  {
   "cell_type": "code",
   "execution_count": 5,
   "metadata": {},
   "outputs": [],
   "source": [
    "from pcpartsclassifier.utils.common import read_yaml, create_directories\n",
    "from pcpartsclassifier.constants import *\n",
    "\n",
    "class ConfigurationManager:\n",
    "  def __init__(self,\n",
    "               config = CONFIG_FILE_PATH,\n",
    "               params = PARAMS_FILE_PATH) -> None:\n",
    "    self.config = read_yaml(config)\n",
    "    self.params = read_yaml(params)\n",
    "    create_directories([self.config.artifacts_root])\n",
    "    \n",
    "  def get_base_model_config(self) -> BaseModelConfig:\n",
    "    config = self.config.base_model\n",
    "    base_model_config = BaseModelConfig(\n",
    "      root_dir=config.root_dir,\n",
    "      untrained_base_model=config.untrained_base_model,\n",
    "      trained_base_model=config.trained_base_model,\n",
    "      classes = self.params.CLASSES\n",
    "    )\n",
    "    return base_model_config\n"
   ]
  },
  {
   "cell_type": "code",
   "execution_count": 9,
   "metadata": {},
   "outputs": [],
   "source": [
    "from torchvision import models\n",
    "import torch.nn as nn\n",
    "import torch\n",
    "\n",
    "\n",
    "class BaseModel(nn.Module):\n",
    "  def __init__(self,  config: BaseModelConfig):\n",
    "    super(BaseModel, self).__init__()\n",
    "    self.config = config\n",
    "    self.weights = models.EfficientNet_B0_Weights.DEFAULT\n",
    "    self.transform = self.weights.transforms()\n",
    "    self.model = models.efficientnet_b0(weights=self.weights)\n",
    "\n",
    "    for params in self.model.features.parameters():\n",
    "      params.requires_grad = False\n",
    "\n",
    "    self.model.classifier = nn.Sequential(\n",
    "      nn.Dropout(),\n",
    "      nn.Linear(1280, self.config.classes)\n",
    "    )\n",
    "\n",
    "  def forward(self, x):\n",
    "    return self.model(x)\n",
    "  \n",
    "  def save_untrained_model(self) -> None:\n",
    "    create_directories([self.config.root_dir])\n",
    "    torch.save(self.model.state_dict(), self.config.untrained_base_model)\n",
    "\n",
    "  @staticmethod\n",
    "  def save_model(model:nn.Module, path: Path) -> None:\n",
    "    torch.save(model.state_dict(), path)\n"
   ]
  },
  {
   "cell_type": "code",
   "execution_count": 10,
   "metadata": {},
   "outputs": [],
   "source": [
    "# from torchinfo import summary\n",
    "# config = ConfigurationManager()\n",
    "# base_model_config = config.get_base_model_config()\n",
    "# model = BaseModel(base_model_config)\n",
    "# model\n",
    "\n",
    "# summary(model, input_size=[1, 3, 224, 224], col_names=[\"input_size\",  \n",
    "#                                                         \"output_size\",\n",
    "#                                                         \"num_params\",\n",
    "#                                                         \"kernel_size\",  \n",
    "#                                                         \"trainable\"])\n",
    "\n"
   ]
  },
  {
   "cell_type": "code",
   "execution_count": 11,
   "metadata": {},
   "outputs": [
    {
     "name": "stdout",
     "output_type": "stream",
     "text": [
      "[2024-03-30 12:47:45,006 : INFO : common : yaml file: config/config.yaml loaded successfull]\n",
      "[2024-03-30 12:47:45,038 : INFO : common : yaml file: params.yaml loaded successfull]\n",
      "[2024-03-30 12:47:45,080 : INFO : common : created directory at artifacts]\n",
      "[2024-03-30 12:47:45,368 : INFO : common : created directory at artifacts/base_model]\n"
     ]
    }
   ],
   "source": [
    "# pipeline\n",
    "try:\n",
    "  config = ConfigurationManager()\n",
    "  base_model_config = config.get_base_model_config()\n",
    "  base_model = BaseModel(config=base_model_config)\n",
    "  base_model.save_untrained_model()\n",
    "except Exception as e:\n",
    "  raise e"
   ]
  },
  {
   "cell_type": "code",
   "execution_count": null,
   "metadata": {},
   "outputs": [],
   "source": []
  }
 ],
 "metadata": {
  "kernelspec": {
   "display_name": "base",
   "language": "python",
   "name": "python3"
  },
  "language_info": {
   "codemirror_mode": {
    "name": "ipython",
    "version": 3
   },
   "file_extension": ".py",
   "mimetype": "text/x-python",
   "name": "python",
   "nbconvert_exporter": "python",
   "pygments_lexer": "ipython3",
   "version": "3.11.5"
  }
 },
 "nbformat": 4,
 "nbformat_minor": 2
}
