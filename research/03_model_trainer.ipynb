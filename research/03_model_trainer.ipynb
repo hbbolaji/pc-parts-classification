{
 "cells": [
  {
   "cell_type": "code",
   "execution_count": 1,
   "metadata": {},
   "outputs": [],
   "source": [
    "import os"
   ]
  },
  {
   "cell_type": "code",
   "execution_count": 2,
   "metadata": {},
   "outputs": [],
   "source": [
    "os.chdir('../')"
   ]
  },
  {
   "cell_type": "code",
   "execution_count": 3,
   "metadata": {},
   "outputs": [
    {
     "data": {
      "text/plain": [
       "'/Users/apple/Documents/Personal/Computer Vision and Deep Learning/pc-parts'"
      ]
     },
     "execution_count": 3,
     "metadata": {},
     "output_type": "execute_result"
    }
   ],
   "source": [
    "%pwd"
   ]
  },
  {
   "cell_type": "code",
   "execution_count": 58,
   "metadata": {},
   "outputs": [],
   "source": [
    "# Type\n",
    "from dataclasses import dataclass\n",
    "from pathlib import Path\n",
    "\n",
    "@dataclass(frozen=True)\n",
    "class TrainingConfig:\n",
    "  root_dir: Path\n",
    "  data_dir: Path\n",
    "  trained_model_path: Path\n",
    "  epochs: int\n",
    "  learning_rate: float\n",
    "  batch_size: int\n",
    "  data_name: str\n"
   ]
  },
  {
   "cell_type": "code",
   "execution_count": 59,
   "metadata": {},
   "outputs": [],
   "source": [
    "# Configuration manager\n",
    "from pcpartsclassifier.utils.common import read_yaml, create_directories\n",
    "from pcpartsclassifier.constants import PARAMS_FILE_PATH, CONFIG_FILE_PATH\n",
    "\n",
    "class ConfigurationManager:\n",
    "  def __init__(self,\n",
    "               config = CONFIG_FILE_PATH,\n",
    "               params = PARAMS_FILE_PATH) -> None:\n",
    "    self.config = read_yaml(config)\n",
    "    self.params = read_yaml(params)\n",
    "    create_directories([self.config.artifacts_root])\n",
    "  \n",
    "  def get_training_config(self) -> TrainingConfig:\n",
    "    config = self.config.training\n",
    "    training_config = TrainingConfig(\n",
    "      root_dir = config.root_dir,\n",
    "      trained_model_path = config.trained_model_path,\n",
    "      data_dir= self.config.data_ingestion.root_dir,\n",
    "      epochs = self.params.EPOCHS,\n",
    "      learning_rate = self.params.LEARNING_RATE,\n",
    "      batch_size=self.params.BATCH_SIZE,\n",
    "      data_name=self.params.DATA_NAME\n",
    "    )\n",
    "    return training_config"
   ]
  },
  {
   "cell_type": "code",
   "execution_count": 66,
   "metadata": {},
   "outputs": [],
   "source": [
    "# Training\n",
    "import torch\n",
    "import torch.nn as nn\n",
    "from torch.utils.data import random_split, DataLoader\n",
    "from torchvision import datasets, models\n",
    "from pcpartsclassifier import logger\n",
    "\n",
    "class Training:\n",
    "  def __init__(self, config: TrainingConfig, model: nn.Module) -> None:\n",
    "    self.config = config\n",
    "    self.weights = models.EfficientNet_B0_Weights.DEFAULT\n",
    "    self.transform = self.weights.transforms()\n",
    "    self.data_dir = os.path.join(self.config.data_dir, self.config.data_name)\n",
    "    self.model = model\n",
    "    \n",
    "  \n",
    "  def data_preparation(self):\n",
    "    dataset = datasets.ImageFolder(root=self.data_dir,\n",
    "                                   transform=self.transform)\n",
    "    train_set, test_set = random_split(dataset=dataset,\n",
    "                                       lengths=[0.7, 0.3])\n",
    "    self.train_loader = DataLoader(dataset=train_set,\n",
    "                              batch_size=self.config.batch_size,\n",
    "                              shuffle=True)\n",
    "    self.test_loader = DataLoader(dataset=test_set,\n",
    "                            batch_size=self.config.batch_size,\n",
    "                            shuffle=False)\n",
    "    self.classes = dataset.classes\n",
    "  \n",
    "  def train_loop(self, optimizer, criterion: nn.Module):\n",
    "    train_loss = 0\n",
    "    for _, (images, labels) in enumerate(self.train_loader):\n",
    "      self.model.train()\n",
    "      # forward propagation and loss\n",
    "      logits = self.model(images)\n",
    "      loss = criterion(logits, labels)\n",
    "      train_loss += loss.item()\n",
    "      # zero_grad\n",
    "      optimizer.zero_grad()\n",
    "\n",
    "      # backward propagation\n",
    "      loss.backward()\n",
    "\n",
    "      # step\n",
    "      optimizer.step()\n",
    "    return train_loss\n",
    "\n",
    "  def test_loop(self, criterion: nn.Module):\n",
    "    test_loss = 0\n",
    "    self.model.eval()\n",
    "    with torch.inference_mode():\n",
    "      # forward pass\n",
    "      for _, (images, labels) in enumerate(self.test_loader):\n",
    "        logits = self.model(images)\n",
    "        loss = criterion(logits, labels)\n",
    "        test_loss += loss.item()\n",
    "    return test_loss\n",
    "\n",
    "  def train(self, model:nn.Module):\n",
    "    criterion = nn.CrossEntropyLoss()\n",
    "    optimizer = torch.optim.Adam(params=model.parameters(),\n",
    "                                 lr=self.config.learning_rate)\n",
    "    self.data_preparation()\n",
    "    for epoch in range(self.config.epochs):\n",
    "      train_loss = self.train_loop(model=model,\n",
    "                      optimizer=optimizer,\n",
    "                      criterion=criterion)\n",
    "      test_loss /= len(self.train_loader)\n",
    "\n",
    "      logger.info(f'Epoch: {epoch} | Loss: {train_loss:.3f}')\n",
    "      test_loss = self.test_loop(model=model,\n",
    "                     criterion=criterion)\n",
    "      test_loss /= len(self.test_loader)\n",
    "      logger.info(f'Epoch: {epoch} | Loss: {test_loss:.3f}')\n",
    "  \n",
    "  def save_model(self):\n",
    "    create_directories([self.config.root_dir])\n",
    "    torch.save(self.model.state_dict(), self.config.trained_model_path)\n",
    "      \n"
   ]
  },
  {
   "cell_type": "code",
   "execution_count": 65,
   "metadata": {},
   "outputs": [
    {
     "name": "stdout",
     "output_type": "stream",
     "text": [
      "[2024-03-30 16:09:46,422 : INFO : common : yaml file: config/config.yaml loaded successfull]\n",
      "[2024-03-30 16:09:46,473 : INFO : common : yaml file: params.yaml loaded successfull]\n",
      "[2024-03-30 16:09:46,475 : INFO : common : created directory at artifacts]\n"
     ]
    },
    {
     "ename": "TypeError",
     "evalue": "Training.__init__() missing 1 required positional argument: 'model'",
     "output_type": "error",
     "traceback": [
      "\u001b[0;31m---------------------------------------------------------------------------\u001b[0m",
      "\u001b[0;31mTypeError\u001b[0m                                 Traceback (most recent call last)",
      "Cell \u001b[0;32mIn[65], line 9\u001b[0m\n\u001b[1;32m      7\u001b[0m   training\u001b[38;5;241m.\u001b[39mtrain()\n\u001b[1;32m      8\u001b[0m \u001b[38;5;28;01mexcept\u001b[39;00m \u001b[38;5;167;01mException\u001b[39;00m \u001b[38;5;28;01mas\u001b[39;00m e:\n\u001b[0;32m----> 9\u001b[0m   \u001b[38;5;28;01mraise\u001b[39;00m e\n",
      "Cell \u001b[0;32mIn[65], line 5\u001b[0m\n\u001b[1;32m      3\u001b[0m config \u001b[38;5;241m=\u001b[39m ConfigurationManager()\n\u001b[1;32m      4\u001b[0m training_config \u001b[38;5;241m=\u001b[39m config\u001b[38;5;241m.\u001b[39mget_training_config()\n\u001b[0;32m----> 5\u001b[0m training \u001b[38;5;241m=\u001b[39m Training(training_config)\n\u001b[1;32m      6\u001b[0m train, test \u001b[38;5;241m=\u001b[39m training\u001b[38;5;241m.\u001b[39mdata_preparation()\n\u001b[1;32m      7\u001b[0m training\u001b[38;5;241m.\u001b[39mtrain()\n",
      "\u001b[0;31mTypeError\u001b[0m: Training.__init__() missing 1 required positional argument: 'model'"
     ]
    }
   ],
   "source": [
    "# Pipeline\n",
    "try:\n",
    "  config = ConfigurationManager()\n",
    "  training_config = config.get_training_config()\n",
    "  training = Training()\n",
    "  training.train()\n",
    "except Exception as e:\n",
    "  raise e\n",
    "  "
   ]
  },
  {
   "cell_type": "code",
   "execution_count": null,
   "metadata": {},
   "outputs": [],
   "source": []
  },
  {
   "cell_type": "code",
   "execution_count": null,
   "metadata": {},
   "outputs": [],
   "source": []
  }
 ],
 "metadata": {
  "kernelspec": {
   "display_name": "base",
   "language": "python",
   "name": "python3"
  },
  "language_info": {
   "codemirror_mode": {
    "name": "ipython",
    "version": 3
   },
   "file_extension": ".py",
   "mimetype": "text/x-python",
   "name": "python",
   "nbconvert_exporter": "python",
   "pygments_lexer": "ipython3",
   "version": "3.11.5"
  }
 },
 "nbformat": 4,
 "nbformat_minor": 2
}
