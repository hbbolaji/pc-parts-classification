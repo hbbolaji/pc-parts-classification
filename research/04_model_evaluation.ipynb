{
 "cells": [
  {
   "cell_type": "code",
   "execution_count": 1,
   "metadata": {},
   "outputs": [],
   "source": [
    "import os"
   ]
  },
  {
   "cell_type": "code",
   "execution_count": 2,
   "metadata": {},
   "outputs": [],
   "source": [
    "os.chdir('../')"
   ]
  },
  {
   "cell_type": "code",
   "execution_count": 3,
   "metadata": {},
   "outputs": [
    {
     "data": {
      "text/plain": [
       "'/Users/apple/Documents/Personal/Computer Vision and Deep Learning/pc-parts'"
      ]
     },
     "execution_count": 3,
     "metadata": {},
     "output_type": "execute_result"
    }
   ],
   "source": [
    "%pwd"
   ]
  },
  {
   "cell_type": "code",
   "execution_count": 4,
   "metadata": {},
   "outputs": [],
   "source": [
    "os.environ[\"MLFLOW_TRACKING_URI\"] = \"https://dagshub.com/hbbolaji/pc-parts-classification.mlflow\"\n",
    "os.environ[\"MLFLOW_TRACKING_USERNAME\"] = \"hbbolaji\"\n",
    "os.environ[\"MLFLOW_TRACKING_PASSWORD\"] = \"4bdb5a1658312cbc56f3d871f4a979d11754c578\""
   ]
  },
  {
   "cell_type": "code",
   "execution_count": 5,
   "metadata": {},
   "outputs": [],
   "source": [
    "from dataclasses import dataclass\n",
    "from pathlib import Path\n",
    "\n",
    "@dataclass(frozen=True)\n",
    "class EvaluationConfig:\n",
    "  root_dir: Path\n",
    "  model_path: Path\n",
    "  all_params: dict\n",
    "  mlflow_uri: str"
   ]
  },
  {
   "cell_type": "code",
   "execution_count": 6,
   "metadata": {},
   "outputs": [],
   "source": [
    "# Configuration Manage\n",
    "from pcpartsclassifier.constants import PARAMS_FILE_PATH, CONFIG_FILE_PATH\n",
    "from pcpartsclassifier.utils.common import read_yaml, create_directories\n",
    "\n",
    "class ConfigurationManager:\n",
    "  def __init__(self,\n",
    "               config = CONFIG_FILE_PATH,\n",
    "               params = PARAMS_FILE_PATH) -> None:\n",
    "    self.config = read_yaml(config)\n",
    "    self.params = read_yaml(params)\n",
    "\n",
    "    create_directories([self.config.artifacts_root])\n",
    "  \n",
    "  def get_evaluation_config(self) -> EvaluationConfig:\n",
    "    config = self.config.evaluation\n",
    "    evaluation_config = EvaluationConfig(\n",
    "      root_dir = config.root_dir,\n",
    "      model_path = config.model_path,\n",
    "      all_params = self.params,\n",
    "      mlflow_uri = config.mlflow_uri\n",
    "    )\n",
    "    return evaluation_config"
   ]
  },
  {
   "cell_type": "code",
   "execution_count": 7,
   "metadata": {},
   "outputs": [
    {
     "name": "stdout",
     "output_type": "stream",
     "text": [
      "[2024-03-31 09:39:40,661 : INFO : utils : NumExpr defaulting to 4 threads.]\n"
     ]
    }
   ],
   "source": [
    "# Evaluation Component\n",
    "import torch\n",
    "from pcpartsclassifier.config.configuration import ConfigurationManager as CM\n",
    "from pcpartsclassifier.components.base_model import BaseModel\n",
    "from pcpartsclassifier.components.model_trainer import Training\n",
    "from pcpartsclassifier.utils.common import save_json\n",
    "import mlflow\n",
    "from urllib.parse import urlparse\n",
    "\n",
    "\n",
    "class ModelEvaluation:\n",
    "  def __init__(self, config: EvaluationConfig) -> None:\n",
    "    self.config = config\n",
    "\n",
    "    self.config_manager = CM()\n",
    "  \n",
    "  def get_eval_data(self):\n",
    "    training_config = self.config_manager.get_training_config()\n",
    "    training = Training(config=training_config)\n",
    "    training.data_preparation()\n",
    "    self.accuracy = training.accuracy\n",
    "    self.validation_loader = training.validation_loader\n",
    "    \n",
    "  @staticmethod\n",
    "  def load_model(model_path: Path, model_config):\n",
    "    model = BaseModel(config=model_config)\n",
    "    model.load_state_dict(torch.load(model_path))\n",
    "    return model\n",
    "  \n",
    "  def evaluate(self):\n",
    "    model_config = self.config_manager.get_base_model_config()\n",
    "    criterion = torch.nn.CrossEntropyLoss()\n",
    "    self.model = self.load_model(model_path=self.config.model_path,\n",
    "                                 model_config=model_config)\n",
    "    self.get_eval_data()\n",
    "    self.model.eval()\n",
    "    with torch.inference_mode():\n",
    "      eval_loss, eval_acc = 0, 0\n",
    "      for i, (images, labels) in enumerate(self.validation_loader):\n",
    "        logits = self.model(images)\n",
    "        loss = criterion(logits, labels)\n",
    "        acc = self.accuracy(logits, labels)\n",
    "\n",
    "        eval_loss += loss.item()\n",
    "        eval_acc += acc.item()\n",
    "\n",
    "      eval_loss /= len(self.validation_loader)\n",
    "      eval_acc /= len(self.validation_loader)\n",
    "\n",
    "      self.scores = eval_loss, 100 * eval_acc\n",
    "  \n",
    "  def save_score(self):\n",
    "    scores = {'Loss': self.scores[0], 'Accuracy': self.scores[1]}\n",
    "    save_json(path=Path('scores.json'), data=scores)\n",
    "\n",
    "  def log_into_mlflow(self):\n",
    "    tracking_uri = self.config.mlflow_uri\n",
    "    mlflow.set_registry_uri(tracking_uri)\n",
    "\n",
    "    tracking_uri_type_store = urlparse(mlflow.get_registry_uri()).scheme\n",
    "\n",
    "    with mlflow.start_run():\n",
    "      mlflow.log_params(self.config.all_params)\n",
    "      mlflow.log_metrics({'loss': self.scores[0], 'accuracy': self.scores[1]})\n",
    "\n",
    "      # model registery is not tracked with file store\n",
    "      if tracking_uri_type_store != \"file\":\n",
    "        mlflow.pytorch.log_model(self.model, 'model', registered_model_name=\"efficientnet_b0\")\n",
    "      else:\n",
    "        mlflow.pytorch.log_model(self.model, 'model')"
   ]
  },
  {
   "cell_type": "code",
   "execution_count": 8,
   "metadata": {},
   "outputs": [
    {
     "name": "stdout",
     "output_type": "stream",
     "text": [
      "[2024-03-31 09:39:41,631 : INFO : common : yaml file: config/config.yaml loaded successfull]\n",
      "[2024-03-31 09:39:41,640 : INFO : common : yaml file: params.yaml loaded successfull]\n",
      "[2024-03-31 09:39:41,651 : INFO : common : created directory at artifacts]\n",
      "[2024-03-31 09:39:41,656 : INFO : common : yaml file: config/config.yaml loaded successfull]\n",
      "[2024-03-31 09:39:41,664 : INFO : common : yaml file: params.yaml loaded successfull]\n",
      "[2024-03-31 09:39:41,672 : INFO : common : created directory at artifacts]\n",
      "[2024-03-31 09:39:41,869 : INFO : common : yaml file: config/config.yaml loaded successfull]\n",
      "[2024-03-31 09:39:41,871 : INFO : common : yaml file: params.yaml loaded successfull]\n",
      "[2024-03-31 09:39:41,872 : INFO : common : created directory at artifacts]\n",
      "[2024-03-31 09:40:01,348 : INFO : common : json file saved at scores.json]\n",
      "[2024-03-31 09:40:03,235 : INFO : file_utils : PyTorch version 2.0.1 available.]\n",
      "[2024-03-31 09:40:07,558 : INFO : modeling_xlnet : Better speed can be achieved with apex installed from https://www.github.com/nvidia/apex .]\n",
      "[2024-03-31 09:40:12,935 : INFO : instantiator : Created a temporary directory at /var/folders/5v/n7f6yphs0ss6n9l_fp7f5k580000gn/T/tmp0xboj1kn]\n",
      "[2024-03-31 09:40:12,936 : INFO : instantiator : Writing /var/folders/5v/n7f6yphs0ss6n9l_fp7f5k580000gn/T/tmp0xboj1kn/_remote_module_non_scriptable.py]\n"
     ]
    },
    {
     "name": "stderr",
     "output_type": "stream",
     "text": [
      "2024/03/31 09:40:20 WARNING mlflow.utils.requirements_utils: The following packages were not found in the public PyPI package index as of 2024-02-29; if these packages are not present in the public PyPI index, you must install them manually before loading your model: {'pcpartsclassifier'}\n",
      "/Users/apple/anaconda3/lib/python3.11/site-packages/_distutils_hack/__init__.py:33: UserWarning: Setuptools is replacing distutils.\n",
      "  warnings.warn(\"Setuptools is replacing distutils.\")\n",
      "Registered model 'efficientnet_b0' already exists. Creating a new version of this model...\n",
      "2024/03/31 09:40:53 INFO mlflow.store.model_registry.abstract_store: Waiting up to 300 seconds for model version to finish creation. Model name: efficientnet_b0, version 2\n",
      "Created version '2' of model 'efficientnet_b0'.\n"
     ]
    }
   ],
   "source": [
    "# pipeline\n",
    "try:\n",
    "  config = ConfigurationManager()\n",
    "  evaluation_config = config.get_evaluation_config()\n",
    "  evaluation = ModelEvaluation(config=evaluation_config)\n",
    "  evaluation.evaluate()\n",
    "  evaluation.save_score()\n",
    "  evaluation.log_into_mlflow()\n",
    "except Exception as e:\n",
    "  raise e"
   ]
  },
  {
   "cell_type": "code",
   "execution_count": null,
   "metadata": {},
   "outputs": [],
   "source": []
  }
 ],
 "metadata": {
  "kernelspec": {
   "display_name": "base",
   "language": "python",
   "name": "python3"
  },
  "language_info": {
   "codemirror_mode": {
    "name": "ipython",
    "version": 3
   },
   "file_extension": ".py",
   "mimetype": "text/x-python",
   "name": "python",
   "nbconvert_exporter": "python",
   "pygments_lexer": "ipython3",
   "version": "3.11.5"
  }
 },
 "nbformat": 4,
 "nbformat_minor": 2
}
